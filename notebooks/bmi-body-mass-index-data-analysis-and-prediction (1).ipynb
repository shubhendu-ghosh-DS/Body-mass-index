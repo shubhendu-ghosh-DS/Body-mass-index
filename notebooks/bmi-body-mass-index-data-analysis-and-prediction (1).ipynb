{
 "cells": [
  {
   "cell_type": "markdown",
   "id": "753c72ce",
   "metadata": {
    "execution": {
     "iopub.execute_input": "2022-01-09T10:41:29.273082Z",
     "iopub.status.busy": "2022-01-09T10:41:29.272552Z",
     "iopub.status.idle": "2022-01-09T10:41:31.849922Z",
     "shell.execute_reply": "2022-01-09T10:41:31.84924Z",
     "shell.execute_reply.started": "2022-01-09T10:41:29.27297Z"
    },
    "papermill": {
     "duration": 0.017704,
     "end_time": "2022-06-28T00:45:10.843207",
     "exception": false,
     "start_time": "2022-06-28T00:45:10.825503",
     "status": "completed"
    },
    "tags": []
   },
   "source": [
    "<h1 style = \"color:#080c80; font-size:40px;font-family: Sans-serif\"><b>Introduction</b></h1>\n",
    "<h2>Body mass index (BMI) is a tool that healthcare providers use to estimate the amount of body fat by using your height and weight measurements. It can help assess risk factors for certain health conditions. The BMI is not always an accurate representation of body fatness.</h2>"
   ]
  },
  {
   "cell_type": "markdown",
   "id": "d3167e5e",
   "metadata": {
    "papermill": {
     "duration": 0.015191,
     "end_time": "2022-06-28T00:45:10.874658",
     "exception": false,
     "start_time": "2022-06-28T00:45:10.859467",
     "status": "completed"
    },
    "tags": []
   },
   "source": [
    "<h1 style = \"color:#080c80; font-size:40px;font-family: Sans-serif\"><b>Problem Statement</b></h1>\n",
    "<h2>We have to predict BMI, given Gender, Height and Weight</h2>"
   ]
  },
  {
   "cell_type": "markdown",
   "id": "aee6b023",
   "metadata": {
    "papermill": {
     "duration": 0.015359,
     "end_time": "2022-06-28T00:45:10.905197",
     "exception": false,
     "start_time": "2022-06-28T00:45:10.889838",
     "status": "completed"
    },
    "tags": []
   },
   "source": [
    "<h1 style = \"color:#080c80; font-size:40px;font-family: Sans-serif\"><b>Importing Libraries</b></h1>"
   ]
  },
  {
   "cell_type": "code",
   "execution_count": 1,
   "id": "116fa6cd",
   "metadata": {
    "execution": {
     "iopub.execute_input": "2022-06-28T00:45:10.939613Z",
     "iopub.status.busy": "2022-06-28T00:45:10.938567Z",
     "iopub.status.idle": "2022-06-28T00:45:12.628937Z",
     "shell.execute_reply": "2022-06-28T00:45:12.627845Z",
     "shell.execute_reply.started": "2022-06-28T00:34:12.946069Z"
    },
    "papermill": {
     "duration": 1.708683,
     "end_time": "2022-06-28T00:45:12.629124",
     "exception": false,
     "start_time": "2022-06-28T00:45:10.920441",
     "status": "completed"
    },
    "tags": []
   },
   "outputs": [],
   "source": [
    "import pickle\n",
    "import numpy as np\n",
    "import pandas as pd\n",
    "import seaborn as sns\n",
    "from sklearn.model_selection import train_test_split\n",
    "from sklearn.preprocessing import LabelEncoder\n",
    "from sklearn.metrics import accuracy_score, log_loss\n",
    "from sklearn.linear_model import LogisticRegression\n",
    "from sklearn.neighbors import KNeighborsClassifier\n",
    "from sklearn.svm import LinearSVC\n",
    "from sklearn.tree import DecisionTreeClassifier\n",
    "from sklearn.ensemble import RandomForestClassifier, AdaBoostClassifier\n",
    "from sklearn.naive_bayes import GaussianNB\n",
    "from sklearn.discriminant_analysis import QuadraticDiscriminantAnalysis\n",
    "from xgboost import XGBClassifier\n",
    "import xgboost\n",
    "import math\n",
    "from sklearn import metrics"
   ]
  },
  {
   "cell_type": "markdown",
   "id": "7f075acb",
   "metadata": {
    "papermill": {
     "duration": 0.014882,
     "end_time": "2022-06-28T00:45:12.659540",
     "exception": false,
     "start_time": "2022-06-28T00:45:12.644658",
     "status": "completed"
    },
    "tags": []
   },
   "source": [
    "<h1 style = \"color:#080c80; font-size:40px;font-family: Sans-serif\"><b>Importing Dataset</b></h1>"
   ]
  },
  {
   "cell_type": "code",
   "execution_count": 2,
   "id": "176ea799",
   "metadata": {
    "execution": {
     "iopub.execute_input": "2022-06-28T00:45:12.693176Z",
     "iopub.status.busy": "2022-06-28T00:45:12.692507Z",
     "iopub.status.idle": "2022-06-28T00:45:12.708186Z",
     "shell.execute_reply": "2022-06-28T00:45:12.708802Z",
     "shell.execute_reply.started": "2022-06-28T00:31:35.343543Z"
    },
    "papermill": {
     "duration": 0.034394,
     "end_time": "2022-06-28T00:45:12.708990",
     "exception": false,
     "start_time": "2022-06-28T00:45:12.674596",
     "status": "completed"
    },
    "tags": []
   },
   "outputs": [],
   "source": [
    "data = pd.read_csv(\"../input/bmidataset/bmi.csv\")"
   ]
  },
  {
   "cell_type": "markdown",
   "id": "566afce1",
   "metadata": {
    "papermill": {
     "duration": 0.015189,
     "end_time": "2022-06-28T00:45:12.740062",
     "exception": false,
     "start_time": "2022-06-28T00:45:12.724873",
     "status": "completed"
    },
    "tags": []
   },
   "source": [
    "<h1 style = \"color:#080c80; font-size:40px;font-family: Sans-serif\"><b>Basic Data Exploration</b></h1>"
   ]
  },
  {
   "cell_type": "code",
   "execution_count": 3,
   "id": "1b91d104",
   "metadata": {
    "execution": {
     "iopub.execute_input": "2022-06-28T00:45:12.774614Z",
     "iopub.status.busy": "2022-06-28T00:45:12.773866Z",
     "iopub.status.idle": "2022-06-28T00:45:12.780024Z",
     "shell.execute_reply": "2022-06-28T00:45:12.780554Z",
     "shell.execute_reply.started": "2022-06-28T00:31:37.284801Z"
    },
    "papermill": {
     "duration": 0.025331,
     "end_time": "2022-06-28T00:45:12.780739",
     "exception": false,
     "start_time": "2022-06-28T00:45:12.755408",
     "status": "completed"
    },
    "tags": []
   },
   "outputs": [
    {
     "data": {
      "text/plain": [
       "(500, 4)"
      ]
     },
     "execution_count": 3,
     "metadata": {},
     "output_type": "execute_result"
    }
   ],
   "source": [
    "data.shape"
   ]
  },
  {
   "cell_type": "code",
   "execution_count": 4,
   "id": "01f81e1a",
   "metadata": {
    "execution": {
     "iopub.execute_input": "2022-06-28T00:45:12.815687Z",
     "iopub.status.busy": "2022-06-28T00:45:12.815080Z",
     "iopub.status.idle": "2022-06-28T00:45:12.833401Z",
     "shell.execute_reply": "2022-06-28T00:45:12.834022Z",
     "shell.execute_reply.started": "2022-06-28T00:31:40.135714Z"
    },
    "papermill": {
     "duration": 0.037287,
     "end_time": "2022-06-28T00:45:12.834192",
     "exception": false,
     "start_time": "2022-06-28T00:45:12.796905",
     "status": "completed"
    },
    "tags": []
   },
   "outputs": [
    {
     "data": {
      "text/html": [
       "<div>\n",
       "<style scoped>\n",
       "    .dataframe tbody tr th:only-of-type {\n",
       "        vertical-align: middle;\n",
       "    }\n",
       "\n",
       "    .dataframe tbody tr th {\n",
       "        vertical-align: top;\n",
       "    }\n",
       "\n",
       "    .dataframe thead th {\n",
       "        text-align: right;\n",
       "    }\n",
       "</style>\n",
       "<table border=\"1\" class=\"dataframe\">\n",
       "  <thead>\n",
       "    <tr style=\"text-align: right;\">\n",
       "      <th></th>\n",
       "      <th>Gender</th>\n",
       "      <th>Height</th>\n",
       "      <th>Weight</th>\n",
       "      <th>Index</th>\n",
       "    </tr>\n",
       "  </thead>\n",
       "  <tbody>\n",
       "    <tr>\n",
       "      <th>0</th>\n",
       "      <td>Male</td>\n",
       "      <td>174</td>\n",
       "      <td>96</td>\n",
       "      <td>4</td>\n",
       "    </tr>\n",
       "    <tr>\n",
       "      <th>1</th>\n",
       "      <td>Male</td>\n",
       "      <td>189</td>\n",
       "      <td>87</td>\n",
       "      <td>2</td>\n",
       "    </tr>\n",
       "    <tr>\n",
       "      <th>2</th>\n",
       "      <td>Female</td>\n",
       "      <td>185</td>\n",
       "      <td>110</td>\n",
       "      <td>4</td>\n",
       "    </tr>\n",
       "    <tr>\n",
       "      <th>3</th>\n",
       "      <td>Female</td>\n",
       "      <td>195</td>\n",
       "      <td>104</td>\n",
       "      <td>3</td>\n",
       "    </tr>\n",
       "    <tr>\n",
       "      <th>4</th>\n",
       "      <td>Male</td>\n",
       "      <td>149</td>\n",
       "      <td>61</td>\n",
       "      <td>3</td>\n",
       "    </tr>\n",
       "  </tbody>\n",
       "</table>\n",
       "</div>"
      ],
      "text/plain": [
       "   Gender  Height  Weight  Index\n",
       "0    Male     174      96      4\n",
       "1    Male     189      87      2\n",
       "2  Female     185     110      4\n",
       "3  Female     195     104      3\n",
       "4    Male     149      61      3"
      ]
     },
     "execution_count": 4,
     "metadata": {},
     "output_type": "execute_result"
    }
   ],
   "source": [
    "data.head()"
   ]
  },
  {
   "cell_type": "code",
   "execution_count": 5,
   "id": "c71e2715",
   "metadata": {
    "execution": {
     "iopub.execute_input": "2022-06-28T00:45:12.869984Z",
     "iopub.status.busy": "2022-06-28T00:45:12.869321Z",
     "iopub.status.idle": "2022-06-28T00:45:13.078424Z",
     "shell.execute_reply": "2022-06-28T00:45:13.078891Z",
     "shell.execute_reply.started": "2022-06-28T00:39:04.283750Z"
    },
    "papermill": {
     "duration": 0.228213,
     "end_time": "2022-06-28T00:45:13.079078",
     "exception": false,
     "start_time": "2022-06-28T00:45:12.850865",
     "status": "completed"
    },
    "tags": []
   },
   "outputs": [
    {
     "data": {
      "image/png": "[encoded data removed]",
      "text/plain": [
       "<Figure size 432x288 with 1 Axes>"
      ]
     },
     "metadata": {
      "needs_background": "light"
     },
     "output_type": "display_data"
    }
   ],
   "source": [
    "ax = sns.countplot(x = 'Gender', data = data)"
   ]
  },
  {
   "cell_type": "code",
   "execution_count": 6,
   "id": "582c659f",
   "metadata": {
    "execution": {
     "iopub.execute_input": "2022-06-28T00:45:13.116037Z",
     "iopub.status.busy": "2022-06-28T00:45:13.115346Z",
     "iopub.status.idle": "2022-06-28T00:45:13.313243Z",
     "shell.execute_reply": "2022-06-28T00:45:13.313726Z",
     "shell.execute_reply.started": "2022-06-28T00:39:56.663331Z"
    },
    "papermill": {
     "duration": 0.217682,
     "end_time": "2022-06-28T00:45:13.313889",
     "exception": false,
     "start_time": "2022-06-28T00:45:13.096207",
     "status": "completed"
    },
    "tags": []
   },
   "outputs": [
    {
     "data": {
      "image/png": "[encoded data removed]",
      "text/plain": [
       "<Figure size 432x288 with 1 Axes>"
      ]
     },
     "metadata": {
      "needs_background": "light"
     },
     "output_type": "display_data"
    }
   ],
   "source": [
    "ax = sns.countplot(x = 'Index', data = data)"
   ]
  },
  {
   "cell_type": "code",
   "execution_count": 7,
   "id": "4af8cef6",
   "metadata": {
    "execution": {
     "iopub.execute_input": "2022-06-28T00:45:13.359370Z",
     "iopub.status.busy": "2022-06-28T00:45:13.358794Z",
     "iopub.status.idle": "2022-06-28T00:45:13.374948Z",
     "shell.execute_reply": "2022-06-28T00:45:13.374324Z",
     "shell.execute_reply.started": "2022-06-28T00:31:43.690455Z"
    },
    "papermill": {
     "duration": 0.044189,
     "end_time": "2022-06-28T00:45:13.375103",
     "exception": false,
     "start_time": "2022-06-28T00:45:13.330914",
     "status": "completed"
    },
    "tags": []
   },
   "outputs": [
    {
     "data": {
      "text/html": [
       "<div>\n",
       "<style scoped>\n",
       "    .dataframe tbody tr th:only-of-type {\n",
       "        vertical-align: middle;\n",
       "    }\n",
       "\n",
       "    .dataframe tbody tr th {\n",
       "        vertical-align: top;\n",
       "    }\n",
       "\n",
       "    .dataframe thead th {\n",
       "        text-align: right;\n",
       "    }\n",
       "</style>\n",
       "<table border=\"1\" class=\"dataframe\">\n",
       "  <thead>\n",
       "    <tr style=\"text-align: right;\">\n",
       "      <th></th>\n",
       "      <th>Height</th>\n",
       "      <th>Weight</th>\n",
       "      <th>Index</th>\n",
       "    </tr>\n",
       "  </thead>\n",
       "  <tbody>\n",
       "    <tr>\n",
       "      <th>count</th>\n",
       "      <td>500.000000</td>\n",
       "      <td>500.000000</td>\n",
       "      <td>500.000000</td>\n",
       "    </tr>\n",
       "    <tr>\n",
       "      <th>mean</th>\n",
       "      <td>169.944000</td>\n",
       "      <td>106.000000</td>\n",
       "      <td>3.748000</td>\n",
       "    </tr>\n",
       "    <tr>\n",
       "      <th>std</th>\n",
       "      <td>16.375261</td>\n",
       "      <td>32.382607</td>\n",
       "      <td>1.355053</td>\n",
       "    </tr>\n",
       "    <tr>\n",
       "      <th>min</th>\n",
       "      <td>140.000000</td>\n",
       "      <td>50.000000</td>\n",
       "      <td>0.000000</td>\n",
       "    </tr>\n",
       "    <tr>\n",
       "      <th>25%</th>\n",
       "      <td>156.000000</td>\n",
       "      <td>80.000000</td>\n",
       "      <td>3.000000</td>\n",
       "    </tr>\n",
       "    <tr>\n",
       "      <th>50%</th>\n",
       "      <td>170.500000</td>\n",
       "      <td>106.000000</td>\n",
       "      <td>4.000000</td>\n",
       "    </tr>\n",
       "    <tr>\n",
       "      <th>75%</th>\n",
       "      <td>184.000000</td>\n",
       "      <td>136.000000</td>\n",
       "      <td>5.000000</td>\n",
       "    </tr>\n",
       "    <tr>\n",
       "      <th>max</th>\n",
       "      <td>199.000000</td>\n",
       "      <td>160.000000</td>\n",
       "      <td>5.000000</td>\n",
       "    </tr>\n",
       "  </tbody>\n",
       "</table>\n",
       "</div>"
      ],
      "text/plain": [
       "           Height      Weight       Index\n",
       "count  500.000000  500.000000  500.000000\n",
       "mean   169.944000  106.000000    3.748000\n",
       "std     16.375261   32.382607    1.355053\n",
       "min    140.000000   50.000000    0.000000\n",
       "25%    156.000000   80.000000    3.000000\n",
       "50%    170.500000  106.000000    4.000000\n",
       "75%    184.000000  136.000000    5.000000\n",
       "max    199.000000  160.000000    5.000000"
      ]
     },
     "execution_count": 7,
     "metadata": {},
     "output_type": "execute_result"
    }
   ],
   "source": [
    "data.describe()"
   ]
  },
  {
   "cell_type": "code",
   "execution_count": 8,
   "id": "20bf1583",
   "metadata": {
    "execution": {
     "iopub.execute_input": "2022-06-28T00:45:13.419137Z",
     "iopub.status.busy": "2022-06-28T00:45:13.418393Z",
     "iopub.status.idle": "2022-06-28T00:45:13.422264Z",
     "shell.execute_reply": "2022-06-28T00:45:13.421796Z",
     "shell.execute_reply.started": "2022-06-28T00:32:34.134423Z"
    },
    "papermill": {
     "duration": 0.028845,
     "end_time": "2022-06-28T00:45:13.422393",
     "exception": false,
     "start_time": "2022-06-28T00:45:13.393548",
     "status": "completed"
    },
    "tags": []
   },
   "outputs": [
    {
     "data": {
      "text/plain": [
       "Gender    0\n",
       "Height    0\n",
       "Weight    0\n",
       "Index     0\n",
       "dtype: int64"
      ]
     },
     "execution_count": 8,
     "metadata": {},
     "output_type": "execute_result"
    }
   ],
   "source": [
    "data.isnull().sum()"
   ]
  },
  {
   "cell_type": "code",
   "execution_count": 9,
   "id": "cfd02fed",
   "metadata": {
    "execution": {
     "iopub.execute_input": "2022-06-28T00:45:13.467078Z",
     "iopub.status.busy": "2022-06-28T00:45:13.466144Z",
     "iopub.status.idle": "2022-06-28T00:45:13.713576Z",
     "shell.execute_reply": "2022-06-28T00:45:13.712903Z",
     "shell.execute_reply.started": "2022-06-28T00:37:00.284296Z"
    },
    "papermill": {
     "duration": 0.273648,
     "end_time": "2022-06-28T00:45:13.713749",
     "exception": false,
     "start_time": "2022-06-28T00:45:13.440101",
     "status": "completed"
    },
    "tags": []
   },
   "outputs": [
    {
     "data": {
      "image/png": "[encoded data removed]",
      "text/plain": [
       "<Figure size 432x288 with 2 Axes>"
      ]
     },
     "metadata": {
      "needs_background": "light"
     },
     "output_type": "display_data"
    }
   ],
   "source": [
    "corr = data.corr()\n",
    "ax = sns.heatmap(corr, vmin = -1, vmax = 1, center = 0, cmap = sns.diverging_palette(20, 220, n = 200), \n",
    "                square = True)"
   ]
  },
  {
   "cell_type": "markdown",
   "id": "2316c4c5",
   "metadata": {
    "papermill": {
     "duration": 0.018521,
     "end_time": "2022-06-28T00:45:13.751230",
     "exception": false,
     "start_time": "2022-06-28T00:45:13.732709",
     "status": "completed"
    },
    "tags": []
   },
   "source": [
    "<h1 style = \"color:#080c80; font-size:40px;font-family: Sans-serif\"><b>Data Preprocessing</b></h1>"
   ]
  },
  {
   "cell_type": "code",
   "execution_count": 10,
   "id": "8e6e4a9a",
   "metadata": {
    "execution": {
     "iopub.execute_input": "2022-06-28T00:45:13.795497Z",
     "iopub.status.busy": "2022-06-28T00:45:13.794866Z",
     "iopub.status.idle": "2022-06-28T00:45:13.798296Z",
     "shell.execute_reply": "2022-06-28T00:45:13.797751Z",
     "shell.execute_reply.started": "2022-06-28T00:40:37.483821Z"
    },
    "papermill": {
     "duration": 0.028189,
     "end_time": "2022-06-28T00:45:13.798435",
     "exception": false,
     "start_time": "2022-06-28T00:45:13.770246",
     "status": "completed"
    },
    "tags": []
   },
   "outputs": [],
   "source": [
    "LE = LabelEncoder()\n",
    "data['Gender'] = LE.fit_transform(data['Gender'])\n",
    "data['Index'] = LE.fit_transform(data['Index'])"
   ]
  },
  {
   "cell_type": "code",
   "execution_count": 11,
   "id": "c0d3be87",
   "metadata": {
    "execution": {
     "iopub.execute_input": "2022-06-28T00:45:13.842870Z",
     "iopub.status.busy": "2022-06-28T00:45:13.842224Z",
     "iopub.status.idle": "2022-06-28T00:45:13.849503Z",
     "shell.execute_reply": "2022-06-28T00:45:13.850023Z",
     "shell.execute_reply.started": "2022-06-28T00:40:52.619179Z"
    },
    "papermill": {
     "duration": 0.033194,
     "end_time": "2022-06-28T00:45:13.850256",
     "exception": false,
     "start_time": "2022-06-28T00:45:13.817062",
     "status": "completed"
    },
    "tags": []
   },
   "outputs": [
    {
     "name": "stdout",
     "output_type": "stream",
     "text": [
      "(350, 3)\n",
      "(350,)\n",
      "(150, 3)\n",
      "(150,)\n"
     ]
    }
   ],
   "source": [
    "X = data.drop('Index',axis =1)\n",
    "Y = data['Index']\n",
    "X_train,X_test,Y_train,Y_test = train_test_split(X,Y,test_size = 0.3, random_state = 42)\n",
    "print(X_train.shape)\n",
    "print(Y_train.shape)\n",
    "print(X_test.shape)\n",
    "print(Y_test.shape)"
   ]
  },
  {
   "cell_type": "markdown",
   "id": "d1219909",
   "metadata": {
    "papermill": {
     "duration": 0.018579,
     "end_time": "2022-06-28T00:45:13.889195",
     "exception": false,
     "start_time": "2022-06-28T00:45:13.870616",
     "status": "completed"
    },
    "tags": []
   },
   "source": [
    "<h1 style = \"color:#080c80; font-size:40px;font-family: Sans-serif\"><b>Model Building</b></h1>"
   ]
  },
  {
   "cell_type": "code",
   "execution_count": 12,
   "id": "d81b1313",
   "metadata": {
    "execution": {
     "iopub.execute_input": "2022-06-28T00:45:13.929975Z",
     "iopub.status.busy": "2022-06-28T00:45:13.929321Z",
     "iopub.status.idle": "2022-06-28T00:45:13.934693Z",
     "shell.execute_reply": "2022-06-28T00:45:13.934215Z",
     "shell.execute_reply.started": "2022-06-28T00:41:31.290997Z"
    },
    "papermill": {
     "duration": 0.026823,
     "end_time": "2022-06-28T00:45:13.934826",
     "exception": false,
     "start_time": "2022-06-28T00:45:13.908003",
     "status": "completed"
    },
    "tags": []
   },
   "outputs": [],
   "source": [
    "KNN = KNeighborsClassifier(n_neighbors = 5)\n",
    "LSVC = LinearSVC()\n",
    "Tree = DecisionTreeClassifier(criterion = 'gini', max_depth = 3)\n",
    "Forest = RandomForestClassifier(random_state = 1, max_features = 'sqrt', n_jobs = 1, verbose = 1)\n",
    "XGB = XGBClassifier()\n",
    "ADA = AdaBoostClassifier()\n",
    "Naive = GaussianNB()\n",
    "QDA = QuadraticDiscriminantAnalysis()"
   ]
  },
  {
   "cell_type": "code",
   "execution_count": 13,
   "id": "e1d87cb9",
   "metadata": {
    "execution": {
     "iopub.execute_input": "2022-06-28T00:45:13.977456Z",
     "iopub.status.busy": "2022-06-28T00:45:13.976482Z",
     "iopub.status.idle": "2022-06-28T00:45:13.981285Z",
     "shell.execute_reply": "2022-06-28T00:45:13.980809Z",
     "shell.execute_reply.started": "2022-06-28T00:41:35.783121Z"
    },
    "papermill": {
     "duration": 0.027806,
     "end_time": "2022-06-28T00:45:13.981415",
     "exception": false,
     "start_time": "2022-06-28T00:45:13.953609",
     "status": "completed"
    },
    "tags": []
   },
   "outputs": [],
   "source": [
    "models = [KNN,LSVC,Tree,Forest,XGB,ADA,Naive,QDA]"
   ]
  },
  {
   "cell_type": "code",
   "execution_count": 14,
   "id": "f723b91c",
   "metadata": {
    "execution": {
     "iopub.execute_input": "2022-06-28T00:45:14.030897Z",
     "iopub.status.busy": "2022-06-28T00:45:14.029983Z",
     "iopub.status.idle": "2022-06-28T00:45:14.792765Z",
     "shell.execute_reply": "2022-06-28T00:45:14.792232Z",
     "shell.execute_reply.started": "2022-06-28T00:41:47.810745Z"
    },
    "papermill": {
     "duration": 0.792746,
     "end_time": "2022-06-28T00:45:14.792918",
     "exception": false,
     "start_time": "2022-06-28T00:45:14.000172",
     "status": "completed"
    },
    "tags": []
   },
   "outputs": [
    {
     "name": "stderr",
     "output_type": "stream",
     "text": [
      "/opt/conda/lib/python3.7/site-packages/sklearn/svm/_base.py:977: ConvergenceWarning: Liblinear failed to converge, increase the number of iterations.\n",
      "  \"the number of iterations.\", ConvergenceWarning)\n",
      "[Parallel(n_jobs=1)]: Using backend SequentialBackend with 1 concurrent workers.\n",
      "[Parallel(n_jobs=1)]: Done 100 out of 100 | elapsed:    0.1s finished\n",
      "[Parallel(n_jobs=1)]: Using backend SequentialBackend with 1 concurrent workers.\n",
      "[Parallel(n_jobs=1)]: Done 100 out of 100 | elapsed:    0.0s finished\n",
      "/opt/conda/lib/python3.7/site-packages/xgboost/sklearn.py:1224: UserWarning: The use of label encoder in XGBClassifier is deprecated and will be removed in a future release. To remove this warning, do the following: 1) Pass option use_label_encoder=False when constructing XGBClassifier object; and 2) Encode your labels (y) as integers starting with 0, i.e. 0, 1, 2, ..., [num_class - 1].\n",
      "  warnings.warn(label_encoder_deprecation_msg, UserWarning)\n"
     ]
    },
    {
     "name": "stdout",
     "output_type": "stream",
     "text": [
      "[00:45:14] WARNING: ../src/learner.cc:1115: Starting in XGBoost 1.3.0, the default evaluation metric used with the objective 'multi:softprob' was changed from 'merror' to 'mlogloss'. Explicitly set eval_metric if you'd like to restore the old behavior.\n",
      "QuadraticDiscriminantAnalysis() 0.8933333333333333\n"
     ]
    }
   ],
   "source": [
    "models_scores =[]\n",
    "for model in models:\n",
    "    model.fit(X_train, Y_train)\n",
    "    score = model.score(X_test, Y_test)\n",
    "    models_scores.append(score)\n",
    "mod_perfm = {}\n",
    "D = models_scores\n",
    "for key in models:\n",
    "    for val in models_scores:\n",
    "        mod_perfm[key] = val\n",
    "        models_scores.remove(val)\n",
    "        break\n",
    "Keymax = max(mod_perfm, key= lambda x: mod_perfm[x])\n",
    "print(Keymax, mod_perfm[Keymax])"
   ]
  },
  {
   "cell_type": "code",
   "execution_count": 15,
   "id": "cf362554",
   "metadata": {
    "execution": {
     "iopub.execute_input": "2022-06-28T00:45:14.840144Z",
     "iopub.status.busy": "2022-06-28T00:45:14.839168Z",
     "iopub.status.idle": "2022-06-28T00:45:14.846340Z",
     "shell.execute_reply": "2022-06-28T00:45:14.847016Z",
     "shell.execute_reply.started": "2022-06-28T00:42:07.739670Z"
    },
    "papermill": {
     "duration": 0.034306,
     "end_time": "2022-06-28T00:45:14.847234",
     "exception": false,
     "start_time": "2022-06-28T00:45:14.812928",
     "status": "completed"
    },
    "tags": []
   },
   "outputs": [
    {
     "name": "stdout",
     "output_type": "stream",
     "text": [
      "CPU times: user 2.54 ms, sys: 897 µs, total: 3.43 ms\n",
      "Wall time: 3.06 ms\n"
     ]
    },
    {
     "data": {
      "text/plain": [
       "QuadraticDiscriminantAnalysis()"
      ]
     },
     "execution_count": 15,
     "metadata": {},
     "output_type": "execute_result"
    }
   ],
   "source": [
    "qda = QuadraticDiscriminantAnalysis()\n",
    "%time qda.fit(X_train, Y_train)"
   ]
  },
  {
   "cell_type": "markdown",
   "id": "da8da149",
   "metadata": {
    "papermill": {
     "duration": 0.019721,
     "end_time": "2022-06-28T00:45:14.887968",
     "exception": false,
     "start_time": "2022-06-28T00:45:14.868247",
     "status": "completed"
    },
    "tags": []
   },
   "source": [
    "<h1 style = \"color:#080c80; font-size:40px;font-family: Sans-serif\"><b>Evaluation</b></h1>"
   ]
  },
  {
   "cell_type": "code",
   "execution_count": 16,
   "id": "77635165",
   "metadata": {
    "execution": {
     "iopub.execute_input": "2022-06-28T00:45:14.931640Z",
     "iopub.status.busy": "2022-06-28T00:45:14.931052Z",
     "iopub.status.idle": "2022-06-28T00:45:14.937024Z",
     "shell.execute_reply": "2022-06-28T00:45:14.937694Z",
     "shell.execute_reply.started": "2022-06-28T00:42:13.334480Z"
    },
    "papermill": {
     "duration": 0.030052,
     "end_time": "2022-06-28T00:45:14.937907",
     "exception": false,
     "start_time": "2022-06-28T00:45:14.907855",
     "status": "completed"
    },
    "tags": []
   },
   "outputs": [
    {
     "name": "stdout",
     "output_type": "stream",
     "text": [
      "[4 2 3 4 4 5 5 5 3 5 4 5 2 5 5 3 5 5 3 5 2 5 1 4 4 5 5 5 5 2 4 5 4 4 4 2 5\n",
      " 2 4 2 5 2 4 3 5 4 4 4 4 4 5 4 2 1 5 3 3 5 5 4 5 5 4 4 0 2 3 4 2 2 2 4 2 3\n",
      " 5 5 5 4 2 5 5 3 2 5 4 5 3 5 4 3 1 2 5 4 5 2 5 4 1 5 4 4 5 5 3 3 4 5 4 5 3\n",
      " 4 3 3 2 5 5 5 5 2 3 4 4 5 4 4 2 4 3 3 0 3 5 5 2 4 4 2 5 5 4 3 5 3 5 5 5 4\n",
      " 5 4]\n"
     ]
    }
   ],
   "source": [
    "Y_pred = qda.predict(X_test)\n",
    "print(Y_pred)"
   ]
  },
  {
   "cell_type": "code",
   "execution_count": 17,
   "id": "2e8a4758",
   "metadata": {
    "execution": {
     "iopub.execute_input": "2022-06-28T00:45:14.981852Z",
     "iopub.status.busy": "2022-06-28T00:45:14.981253Z",
     "iopub.status.idle": "2022-06-28T00:45:14.986607Z",
     "shell.execute_reply": "2022-06-28T00:45:14.987057Z",
     "shell.execute_reply.started": "2022-06-28T00:42:19.970936Z"
    },
    "papermill": {
     "duration": 0.028405,
     "end_time": "2022-06-28T00:45:14.987215",
     "exception": false,
     "start_time": "2022-06-28T00:45:14.958810",
     "status": "completed"
    },
    "tags": []
   },
   "outputs": [
    {
     "name": "stdout",
     "output_type": "stream",
     "text": [
      "Mean Squared Error : 0.12666666666666668\n",
      "Root Mean Squared Error : 0.3559026084010437\n"
     ]
    }
   ],
   "source": [
    "mse = metrics.mean_squared_error(Y_test, Y_pred)\n",
    "print('Mean Squared Error : '+ str(mse))\n",
    "rmse = math.sqrt(metrics.mean_squared_error(Y_test, Y_pred))\n",
    "print('Root Mean Squared Error : '+ str(rmse))"
   ]
  },
  {
   "cell_type": "code",
   "execution_count": 18,
   "id": "2ff10ead",
   "metadata": {
    "execution": {
     "iopub.execute_input": "2022-06-28T00:45:15.030767Z",
     "iopub.status.busy": "2022-06-28T00:45:15.030113Z",
     "iopub.status.idle": "2022-06-28T00:45:15.038087Z",
     "shell.execute_reply": "2022-06-28T00:45:15.038563Z",
     "shell.execute_reply.started": "2022-06-28T00:42:24.739469Z"
    },
    "papermill": {
     "duration": 0.031468,
     "end_time": "2022-06-28T00:45:15.038753",
     "exception": false,
     "start_time": "2022-06-28T00:45:15.007285",
     "status": "completed"
    },
    "tags": []
   },
   "outputs": [
    {
     "name": "stdout",
     "output_type": "stream",
     "text": [
      "Classification Report of Quadratic Discriminant Analysis : \n",
      "\n",
      "              precision    recall  f1-score   support\n",
      "\n",
      "           0       0.50      1.00      0.67         1\n",
      "           1       1.00      0.80      0.89         5\n",
      "           2       1.00      0.82      0.90        28\n",
      "           3       0.52      1.00      0.69        12\n",
      "           4       0.91      0.85      0.88        46\n",
      "           5       1.00      0.95      0.97        58\n",
      "\n",
      "    accuracy                           0.89       150\n",
      "   macro avg       0.82      0.90      0.83       150\n",
      "weighted avg       0.93      0.89      0.90       150\n",
      "\n"
     ]
    }
   ],
   "source": [
    "report = metrics.classification_report(Y_test, Y_pred)\n",
    "print('Classification Report of Quadratic Discriminant Analysis : \\n')\n",
    "print(report)"
   ]
  },
  {
   "cell_type": "code",
   "execution_count": 19,
   "id": "b57ca454",
   "metadata": {
    "execution": {
     "iopub.execute_input": "2022-06-28T00:45:15.083570Z",
     "iopub.status.busy": "2022-06-28T00:45:15.082976Z",
     "iopub.status.idle": "2022-06-28T00:45:15.090093Z",
     "shell.execute_reply": "2022-06-28T00:45:15.089571Z",
     "shell.execute_reply.started": "2022-06-28T00:42:32.453778Z"
    },
    "papermill": {
     "duration": 0.03034,
     "end_time": "2022-06-28T00:45:15.090255",
     "exception": false,
     "start_time": "2022-06-28T00:45:15.059915",
     "status": "completed"
    },
    "tags": []
   },
   "outputs": [],
   "source": [
    "qda.fit(X, Y)\n",
    "pickle.dump(qda, open('quadratic_discriminant_analysis.pkl', 'wb'))"
   ]
  },
  {
   "cell_type": "markdown",
   "id": "10ead72b",
   "metadata": {
    "papermill": {
     "duration": 0.020952,
     "end_time": "2022-06-28T00:45:15.131742",
     "exception": false,
     "start_time": "2022-06-28T00:45:15.110790",
     "status": "completed"
    },
    "tags": []
   },
   "source": [
    "<h2>Thanks for Visiting</h2>"
   ]
  }
 ],
 "metadata": {
  "kernelspec": {
   "display_name": "Python 3",
   "language": "python",
   "name": "python3"
  },
  "language_info": {
   "codemirror_mode": {
    "name": "ipython",
    "version": 3
   },
   "file_extension": ".py",
   "mimetype": "text/x-python",
   "name": "python",
   "nbconvert_exporter": "python",
   "pygments_lexer": "ipython3",
   "version": "3.7.12"
  },
  "papermill": {
   "default_parameters": {},
   "duration": 14.823154,
   "end_time": "2022-06-28T00:45:15.864020",
   "environment_variables": {},
   "exception": null,
   "input_path": "__notebook__.ipynb",
   "output_path": "__notebook__.ipynb",
   "parameters": {},
   "start_time": "2022-06-28T00:45:01.040866",
   "version": "2.3.3"
  }
 },
 "nbformat": 4,
 "nbformat_minor": 5
}
